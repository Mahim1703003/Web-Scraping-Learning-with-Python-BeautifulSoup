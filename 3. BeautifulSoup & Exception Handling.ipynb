{
 "cells": [
  {
   "cell_type": "code",
   "execution_count": 5,
   "id": "5ff6ace2",
   "metadata": {},
   "outputs": [
    {
     "name": "stdout",
     "output_type": "stream",
     "text": [
      "<h1>An Interesting Title</h1>\n"
     ]
    }
   ],
   "source": [
    "from urllib.request import urlopen\n",
    "from bs4 import BeautifulSoup\n",
    "try:\n",
    "    html = urlopen(\"http://pythonscraping.com/pages/page1.html\")\n",
    "except:\n",
    "    print(\"HTTP error\")\n",
    "try:\n",
    "    bsObj = BeautifulSoup(html.read())\n",
    "    print(bsObj.h1)\n",
    "except:\n",
    "    print(\"Attribute error\")"
   ]
  },
  {
   "cell_type": "code",
   "execution_count": 35,
   "id": "622f9107",
   "metadata": {},
   "outputs": [
    {
     "name": "stdout",
     "output_type": "stream",
     "text": [
      "Enter an URL : http://pythonscraping.com/pages/page1.html\n",
      "<h1>An Interesting Title</h1>\n"
     ]
    }
   ],
   "source": [
    "from urllib.request import urlopen\n",
    "from bs4 import BeautifulSoup\n",
    "\n",
    "url = input(\"Enter an URL : \")\n",
    "\n",
    "try:\n",
    "    html = urlopen(url)\n",
    "except:\n",
    "    pass #print(\"HTTP error\")\n",
    "\n",
    "try:\n",
    "    bsObj = BeautifulSoup(html.read())\n",
    "    print(bsObj.h1)\n",
    "except:\n",
    "    print(\"Attribute error\")"
   ]
  },
  {
   "cell_type": "code",
   "execution_count": 7,
   "id": "5573f5b5",
   "metadata": {},
   "outputs": [
    {
     "name": "stdout",
     "output_type": "stream",
     "text": [
      "None\n"
     ]
    }
   ],
   "source": [
    "from urllib.request import urlopen\n",
    "from bs4 import BeautifulSoup\n",
    "\n",
    "try:\n",
    "    html = urlopen(\"http://pythonscraping.com/pages/page1.html\")\n",
    "except:\n",
    "    print(\"HTTP error\")\n",
    "    \n",
    "try:\n",
    "    bsObj = BeautifulSoup(html.read())\n",
    "    print(bsObj.h2)\n",
    "except:\n",
    "    print(\"Attribute error\")\n",
    "\n",
    "# Here it's clearly seen that even though the tag \"bsObj\" is searching for (h2) doesn't exist in the html content,\n",
    "# it still doesn't go to except section , cause it gives \"None\" as output.\n",
    "# so to correct it , we can use if-else to print that \"Attritube error\"\n",
    "# see next cell"
   ]
  },
  {
   "cell_type": "code",
   "execution_count": 39,
   "id": "b6fc40bb",
   "metadata": {},
   "outputs": [
    {
     "name": "stdout",
     "output_type": "stream",
     "text": [
      "Attribute error\n"
     ]
    }
   ],
   "source": [
    "from urllib.request import urlopen\n",
    "from bs4 import BeautifulSoup\n",
    "\n",
    "try:\n",
    "    html = urlopen(\"http://pythonscraping.com/pages/page1.html\")\n",
    "except:\n",
    "    print(\"HTTP error\")\n",
    "    \n",
    "bsObj = BeautifulSoup(html.read())\n",
    "\n",
    "if bsObj.h2 is None :\n",
    "    print(\"Attribute error\")\n",
    "else:\n",
    "    print(bsObj.h2)"
   ]
  },
  {
   "cell_type": "code",
   "execution_count": 32,
   "id": "f67d0ca0",
   "metadata": {},
   "outputs": [
    {
     "name": "stdout",
     "output_type": "stream",
     "text": [
      "Enter an URL : sdfhbsdhhsfdvs\n",
      "None\n"
     ]
    }
   ],
   "source": [
    "from urllib.request import urlopen\n",
    "from bs4 import BeautifulSoup\n",
    "\n",
    "\n",
    "url = input(\"Enter an URL : \")\n",
    "\n",
    "try:\n",
    "    html = urlopen(url)\n",
    "except:\n",
    "    pass\n",
    "        \n",
    "bsObj = BeautifulSoup(html.read())\n",
    "print(bsObj.h1)"
   ]
  },
  {
   "cell_type": "code",
   "execution_count": 34,
   "id": "f5953690",
   "metadata": {},
   "outputs": [
    {
     "name": "stdout",
     "output_type": "stream",
     "text": [
      "Enter an URL : dgfsdjhfsd\n",
      "title could not be found\n"
     ]
    }
   ],
   "source": [
    "from urllib.request import urlopen\n",
    "from bs4 import BeautifulSoup\n",
    "\n",
    "\n",
    "def getTitle(function_url):\n",
    "    \n",
    "    try:\n",
    "        html = urlopen(function_url)\n",
    "    except:\n",
    "        return None # here we can't use \"pass\" statement like we did in last cell\n",
    "        \n",
    "    bsObj = BeautifulSoup(html.read())\n",
    "    return bsObj.h1 # change it to bsObj.h2 , it will return None\n",
    "\n",
    "url = input(\"Enter an URL : \")\n",
    "title = getTitle(url)\n",
    "\n",
    "if title is None:\n",
    "    print(\"title could not be found\")\n",
    "else:\n",
    "    print(title)"
   ]
  }
 ],
 "metadata": {
  "kernelspec": {
   "display_name": "Python 3",
   "language": "python",
   "name": "python3"
  },
  "language_info": {
   "codemirror_mode": {
    "name": "ipython",
    "version": 3
   },
   "file_extension": ".py",
   "mimetype": "text/x-python",
   "name": "python",
   "nbconvert_exporter": "python",
   "pygments_lexer": "ipython3",
   "version": "3.8.8"
  }
 },
 "nbformat": 4,
 "nbformat_minor": 5
}
