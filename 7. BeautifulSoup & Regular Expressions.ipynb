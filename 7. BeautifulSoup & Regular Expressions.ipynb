{
 "cells": [
  {
   "cell_type": "markdown",
   "id": "4add20ea",
   "metadata": {},
   "source": [
    "## Regular Expression\n",
    "See snippets.txt for more about regular expression in details"
   ]
  },
  {
   "cell_type": "code",
   "execution_count": 9,
   "id": "e0a1e840",
   "metadata": {},
   "outputs": [
    {
     "name": "stdout",
     "output_type": "stream",
     "text": [
      "[<img src=\"../img/gifts/logo.jpg\" style=\"float:left;\"/>, <img src=\"../img/gifts/img1.jpg\"/>, <img src=\"../img/gifts/img2.jpg\"/>, <img src=\"../img/gifts/img3.jpg\"/>, <img src=\"../img/gifts/img4.jpg\"/>, <img src=\"../img/gifts/img6.jpg\"/>]\n",
      "\n",
      "<img src=\"../img/gifts/logo.jpg\" style=\"float:left;\"/>\n",
      "<img src=\"../img/gifts/img1.jpg\"/>\n",
      "<img src=\"../img/gifts/img2.jpg\"/>\n",
      "<img src=\"../img/gifts/img3.jpg\"/>\n",
      "<img src=\"../img/gifts/img4.jpg\"/>\n",
      "<img src=\"../img/gifts/img6.jpg\"/>\n"
     ]
    }
   ],
   "source": [
    "from urllib.request import urlopen\n",
    "from bs4 import BeautifulSoup\n",
    "import re\n",
    "\n",
    "html = urlopen(\"https://www.pythonscraping.com/pages/page3.html\")\n",
    "bsObj = BeautifulSoup(html.read())\n",
    "\n",
    "images = bsObj.findAll(\"img\")\n",
    "print(images)\n",
    "print()\n",
    "for image in images:\n",
    "    print(image)"
   ]
  },
  {
   "cell_type": "code",
   "execution_count": 10,
   "id": "5f7ca707",
   "metadata": {},
   "outputs": [
    {
     "name": "stdout",
     "output_type": "stream",
     "text": [
      "[<img src=\"../img/gifts/img1.jpg\"/>]\n"
     ]
    }
   ],
   "source": [
    "from urllib.request import urlopen\n",
    "from bs4 import BeautifulSoup\n",
    "import re\n",
    "\n",
    "html = urlopen(\"https://www.pythonscraping.com/pages/page3.html\")\n",
    "bsObj = BeautifulSoup(html.read())\n",
    "\n",
    "images = bsObj.findAll(\"img\",{\"src\":\"../img/gifts/img1.jpg\"})\n",
    "print(images)"
   ]
  },
  {
   "cell_type": "code",
   "execution_count": 11,
   "id": "0db04968",
   "metadata": {},
   "outputs": [
    {
     "name": "stdout",
     "output_type": "stream",
     "text": [
      "<img src=\"../img/gifts/img1.jpg\"/>\n",
      "<img src=\"../img/gifts/img2.jpg\"/>\n",
      "<img src=\"../img/gifts/img3.jpg\"/>\n",
      "<img src=\"../img/gifts/img4.jpg\"/>\n",
      "<img src=\"../img/gifts/img6.jpg\"/>\n"
     ]
    }
   ],
   "source": [
    "from urllib.request import urlopen\n",
    "from bs4 import BeautifulSoup\n",
    "import re\n",
    "\n",
    "html = urlopen(\"https://www.pythonscraping.com/pages/page3.html\")\n",
    "bsObj = BeautifulSoup(html.read())\n",
    "\n",
    "images = bsObj.findAll(\"img\",{\"src\":re.compile(\"\\.\\.\\/img\\/gifts\\/img\\d+\\.jpg\")})\n",
    "\n",
    "for image in images:\n",
    "    print(image)"
   ]
  },
  {
   "cell_type": "code",
   "execution_count": 2,
   "id": "92c7cca8",
   "metadata": {},
   "outputs": [
    {
     "name": "stdout",
     "output_type": "stream",
     "text": [
      "../img/gifts/img1.jpg\n",
      "../img/gifts/img2.jpg\n",
      "../img/gifts/img3.jpg\n",
      "../img/gifts/img4.jpg\n",
      "../img/gifts/img6.jpg\n"
     ]
    }
   ],
   "source": [
    "from urllib.request import urlopen\n",
    "from bs4 import BeautifulSoup\n",
    "import re\n",
    "\n",
    "html = urlopen(\"https://www.pythonscraping.com/pages/page3.html\")\n",
    "bsObj = BeautifulSoup(html.read())\n",
    "\n",
    "images = bsObj.findAll(\"img\",{\"src\":re.compile(\"\\.\\.\\/img\\/gifts\\/img\\d+\\.jpg\")})\n",
    "\n",
    "for image in images:\n",
    "    print(image.attrs[\"src\"]) # or simply image[\"src\"]"
   ]
  }
 ],
 "metadata": {
  "kernelspec": {
   "display_name": "Python 3",
   "language": "python",
   "name": "python3"
  },
  "language_info": {
   "codemirror_mode": {
    "name": "ipython",
    "version": 3
   },
   "file_extension": ".py",
   "mimetype": "text/x-python",
   "name": "python",
   "nbconvert_exporter": "python",
   "pygments_lexer": "ipython3",
   "version": "3.8.8"
  }
 },
 "nbformat": 4,
 "nbformat_minor": 5
}
